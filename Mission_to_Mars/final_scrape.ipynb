{
 "cells": [
  {
   "cell_type": "markdown",
   "id": "0fe2e383",
   "metadata": {},
   "source": [
    "### Import Dependancies"
   ]
  },
  {
   "cell_type": "code",
   "execution_count": 1,
   "id": "cf3ee9b9",
   "metadata": {},
   "outputs": [],
   "source": [
    "from splinter import Browser\n",
    "from bs4 import BeautifulSoup as bs\n",
    "from webdriver_manager.chrome import ChromeDriverManager"
   ]
  },
  {
   "cell_type": "markdown",
   "id": "eeb91d8b",
   "metadata": {},
   "source": [
    "### Final Scrape Function"
   ]
  },
  {
   "cell_type": "code",
   "execution_count": 4,
   "id": "5aa70281",
   "metadata": {},
   "outputs": [],
   "source": [
    "def scrape():   \n",
    "    # browser = init_browser()\n",
    "    executable_path = {'executable_path': ChromeDriverManager().install()}\n",
    "    browser = Browser('chrome', **executable_path, headless=False)\n",
    "    \n",
    "    # LATEST MARS NEWS SCRAPE -------------------------------------------------------\n",
    "    #latest news scrape source\n",
    "    news_url = \"https://redplanetscience.com/\"\n",
    "    browser.visit(news_url)\n",
    "    \n",
    "    #extract html and parse with beautifulsoup\n",
    "    news_html = browser.html\n",
    "    news_soup = bs(news_html, \"html.parser\")\n",
    "\n",
    "    # extract all title containers from the Mars news pages\n",
    "    results = news_soup.find_all('div', class_='list_text')\n",
    "\n",
    "    #define articles list\n",
    "    articles = []\n",
    "    story = {}\n",
    "    \n",
    "    # loop thru results and create a dic for the latest 4 mars stories\n",
    "    # add each story to the articles list and print \n",
    "    for item in results[:2]:\n",
    "        story = {}\n",
    "        story[\"headline\"] = item.find('div',class_=\"content_title\").get_text()\n",
    "        story[\"tagline\"] = item.find(\"div\", class_=\"article_teaser_body\").get_text()\n",
    "        articles.append(story)\n",
    "\n",
    "        \n",
    "    # HEMI SCRAPE -------------------------------------------------------   \n",
    "    #hemisphere images scrape source\n",
    "    hemi_url = \"https://marshemispheres.com/\"\n",
    "    browser.visit(hemi_url)\n",
    "\n",
    "    #extract html and parse with beautifulsoup\n",
    "    hemi_html = browser.html\n",
    "    hemi_soup = bs(hemi_html, \"html.parser\")\n",
    "\n",
    "    # extract all title containers from the Mars news pages\n",
    "    hemi_results = hemi_soup.find_all('div', class_='description')\n",
    "\n",
    "    #list to hold the images and titles.\n",
    "    hemispheres = []\n",
    "\n",
    "    # loop thru results and create a dic for the latest 4 mars stories\n",
    "    # add each story to the articles list and print \n",
    "    for item in hemi_results:\n",
    "        mars = {}\n",
    "        mars['title'] = item.find('h3').get_text().replace(' Enhanced','')\n",
    "        browser.click_link_by_partial_text(mars['title'])\n",
    "        html=browser.html\n",
    "        soup=bs(html,'html.parser')\n",
    "        mars['image_src'] = (hemi_url + soup.find('li').a['href'])\n",
    "        browser.back()\n",
    "        hemispheres.append(mars)\n",
    "    \n",
    "    \n",
    "    # FEATURED IMAGE SCRAPE ------------------------------------------------------- \n",
    "    #hemisphere images scrape source\n",
    "    jpl_url = \"https://spaceimages-mars.com/\"\n",
    "    browser.visit(jpl_url)\n",
    "    \n",
    "    #extract html and parse with beautifulsoup\n",
    "    jpl_html = browser.html\n",
    "    jpl_soup = bs(jpl_html, \"html.parser\")\n",
    "\n",
    "    featured_img_url = jpl_url + jpl_soup.find(class_='floating_text_area').a['href']\n",
    "\n",
    "    \n",
    "    # TABLE SCRAPE -------------------------------------------------------\n",
    "    \n",
    "    \n",
    "    \n",
    "    # quit the browser\n",
    "    browser.quit()\n",
    "    \n",
    "    # RETURN DATA  -------------------------------------------------------\n",
    "    mars_data = {\n",
    "        'featured_img_url': featured_img_url,\n",
    "        'hemispheres': hemispheres,\n",
    "        'articles': articles    \n",
    "    }\n",
    "    \n",
    "    return mars_data"
   ]
  },
  {
   "cell_type": "code",
   "execution_count": 5,
   "id": "c36811e4",
   "metadata": {},
   "outputs": [
    {
     "name": "stderr",
     "output_type": "stream",
     "text": [
      "\n",
      "\n",
      "====== WebDriver manager ======\n",
      "Current google-chrome version is 93.0.4577\n",
      "Get LATEST driver version for 93.0.4577\n",
      "Driver [C:\\Users\\tayly\\.wdm\\drivers\\chromedriver\\win32\\93.0.4577.63\\chromedriver.exe] found in cache\n"
     ]
    },
    {
     "data": {
      "text/plain": [
       "{'featured_img_url': 'https://spaceimages-mars.com/image/featured/mars2.jpg',\n",
       " 'hemispheres': [{'title': 'Cerberus Hemisphere',\n",
       "   'image_src': 'https://marshemispheres.com/images/full.jpg'},\n",
       "  {'title': 'Schiaparelli Hemisphere',\n",
       "   'image_src': 'https://marshemispheres.com/images/schiaparelli_enhanced-full.jpg'},\n",
       "  {'title': 'Syrtis Major Hemisphere',\n",
       "   'image_src': 'https://marshemispheres.com/images/syrtis_major_enhanced-full.jpg'},\n",
       "  {'title': 'Valles Marineris Hemisphere',\n",
       "   'image_src': 'https://marshemispheres.com/images/valles_marineris_enhanced-full.jpg'}],\n",
       " 'articles': [{'headline': \"NASA's InSight Flexes Its Arm While Its 'Mole' Hits Pause\",\n",
       "   'tagline': \"Now that the lander's robotic arm has helped the mole get underground, it will resume science activities that have been on hold.\"},\n",
       "  {'headline': \"NASA Engineers Checking InSight's Weather Sensors\",\n",
       "   'tagline': 'An electronics issue is suspected to be preventing the sensors from sharing their data about Mars weather with the spacecraft.'}]}"
      ]
     },
     "execution_count": 5,
     "metadata": {},
     "output_type": "execute_result"
    }
   ],
   "source": [
    "scrape()"
   ]
  }
 ],
 "metadata": {
  "kernelspec": {
   "display_name": "PythonData",
   "language": "python",
   "name": "pythondata"
  },
  "language_info": {
   "codemirror_mode": {
    "name": "ipython",
    "version": 3
   },
   "file_extension": ".py",
   "mimetype": "text/x-python",
   "name": "python",
   "nbconvert_exporter": "python",
   "pygments_lexer": "ipython3",
   "version": "3.8.8"
  }
 },
 "nbformat": 4,
 "nbformat_minor": 5
}
