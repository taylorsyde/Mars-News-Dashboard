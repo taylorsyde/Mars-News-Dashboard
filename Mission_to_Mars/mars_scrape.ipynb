{
 "cells": [
  {
   "cell_type": "markdown",
   "id": "67bce21a",
   "metadata": {},
   "source": [
    "### Import Dependancies"
   ]
  },
  {
   "cell_type": "code",
   "execution_count": 1,
   "id": "99980a78",
   "metadata": {},
   "outputs": [],
   "source": [
    "from splinter import Browser\n",
    "from bs4 import BeautifulSoup as bs\n",
    "from webdriver_manager.chrome import ChromeDriverManager"
   ]
  },
  {
   "cell_type": "markdown",
   "id": "38a80ae1",
   "metadata": {},
   "source": [
    "### Mars News Scrape"
   ]
  },
  {
   "cell_type": "code",
   "execution_count": 10,
   "id": "922be9b1",
   "metadata": {},
   "outputs": [],
   "source": [
    "def scrape():   \n",
    "    # browser = init_browser()\n",
    "    executable_path = {'executable_path': ChromeDriverManager().install()}\n",
    "    browser = Browser('chrome', **executable_path, headless=False)\n",
    "\n",
    "    #latest news scrape source\n",
    "    news_url = \"https://redplanetscience.com/\"\n",
    "    browser.visit(news_url)\n",
    "\n",
    "    #extract html and parse with beautifulsoup\n",
    "    news_html = browser.html\n",
    "    news_soup = bs(news_html, \"html.parser\")\n",
    "\n",
    "    # extract all title containers from the Mars news pages\n",
    "    results = news_soup.find_all('div', class_='list_text')\n",
    "\n",
    "    #define articles list\n",
    "    articles = []\n",
    "    story = {}\n",
    "    \n",
    "    # loop thru results and create a dic for the latest 4 mars stories\n",
    "    # add each story to the articles list and print \n",
    "    for item in results[:4]:\n",
    "        story = {}\n",
    "        story[\"headline\"] = item.find('div',class_=\"content_title\").get_text()\n",
    "        story[\"tagline\"] = item.find(\"div\", class_=\"article_teaser_body\").get_text()\n",
    "        articles.append(story)\n",
    "    \n",
    "    # quit the browser\n",
    "    browser.quit()\n",
    "    \n",
    "    return articles"
   ]
  },
  {
   "cell_type": "code",
   "execution_count": 11,
   "id": "b054e8d5",
   "metadata": {},
   "outputs": [
    {
     "name": "stderr",
     "output_type": "stream",
     "text": [
      "\n",
      "\n",
      "====== WebDriver manager ======\n",
      "Current google-chrome version is 93.0.4577\n",
      "Get LATEST driver version for 93.0.4577\n",
      "Driver [C:\\Users\\tayly\\.wdm\\drivers\\chromedriver\\win32\\93.0.4577.63\\chromedriver.exe] found in cache\n"
     ]
    },
    {
     "data": {
      "text/plain": [
       "[{'headline': \"Newfound Martian Aurora Actually the Most Common; Sheds Light on Mars' Changing Climate\",\n",
       "  'tagline': 'A type of Martian aurora first identified by NASA’s MAVEN spacecraft in 2016 is actually the most common form of aurora occurring on the Red Planet, according to new results from the mission.'},\n",
       " {'headline': \"NASA's MAVEN Maps Winds in the Martian Upper Atmosphere that Mirror the Terrain Below and Gives Clues to Martian Climate\",\n",
       "  'tagline': 'Researchers have created the first map of wind circulation in the upper atmosphere of a planet besides Earth, using data from NASA’s MAVEN spacecraft that were collected during the last two years.'},\n",
       " {'headline': \"InSight's 'Mole' Team Peers into the Pit\",\n",
       "  'tagline': 'Efforts to save the heat probe continue.'},\n",
       " {'headline': 'With Mars Methane Mystery Unsolved, Curiosity Serves Scientists a New One: Oxygen',\n",
       "  'tagline': 'For the first time in the history of space exploration, scientists have measured the seasonal changes in the gases that fill the air directly above the surface of Gale Crater on Mars. '}]"
      ]
     },
     "execution_count": 11,
     "metadata": {},
     "output_type": "execute_result"
    }
   ],
   "source": [
    "#run scrape function\n",
    "scrape()"
   ]
  },
  {
   "cell_type": "markdown",
   "id": "7fde0c5a",
   "metadata": {},
   "source": [
    "### Hemisphere Scrape"
   ]
  },
  {
   "cell_type": "code",
   "execution_count": 65,
   "id": "baf7b104",
   "metadata": {},
   "outputs": [
    {
     "name": "stderr",
     "output_type": "stream",
     "text": [
      "\n",
      "\n",
      "====== WebDriver manager ======\n",
      "Current google-chrome version is 93.0.4577\n",
      "Get LATEST driver version for 93.0.4577\n",
      "Driver [C:\\Users\\tayly\\.wdm\\drivers\\chromedriver\\win32\\93.0.4577.63\\chromedriver.exe] found in cache\n"
     ]
    },
    {
     "name": "stdout",
     "output_type": "stream",
     "text": [
      "https://marshemispheres.com/images/full.jpg\n",
      "https://marshemispheres.com/images/schiaparelli_enhanced-full.jpg\n",
      "https://marshemispheres.com/images/syrtis_major_enhanced-full.jpg\n",
      "https://marshemispheres.com/images/valles_marineris_enhanced-full.jpg\n"
     ]
    },
    {
     "data": {
      "text/plain": [
       "[{'title': 'Cerberus Hemisphere',\n",
       "  'image_src': 'https://marshemispheres.com/images/full.jpg'},\n",
       " {'title': 'Schiaparelli Hemisphere',\n",
       "  'image_src': 'https://marshemispheres.com/images/schiaparelli_enhanced-full.jpg'},\n",
       " {'title': 'Syrtis Major Hemisphere',\n",
       "  'image_src': 'https://marshemispheres.com/images/syrtis_major_enhanced-full.jpg'},\n",
       " {'title': 'Valles Marineris Hemisphere',\n",
       "  'image_src': 'https://marshemispheres.com/images/valles_marineris_enhanced-full.jpg'}]"
      ]
     },
     "execution_count": 65,
     "metadata": {},
     "output_type": "execute_result"
    }
   ],
   "source": [
    "# browser = init_browser()\n",
    "executable_path = {'executable_path': ChromeDriverManager().install()}\n",
    "browser = Browser('chrome', **executable_path, headless=False)\n",
    "\n",
    "#hemisphere images scrape source\n",
    "hemi_url = \"https://marshemispheres.com/\"\n",
    "browser.visit(hemi_url)\n",
    "\n",
    "#extract html and parse with beautifulsoup\n",
    "hemi_html = browser.html\n",
    "hemi_soup = bs(hemi_html, \"html.parser\")\n",
    "\n",
    "# extract all title containers from the Mars news pages\n",
    "hemi_results = hemi_soup.find_all('div', class_='description')\n",
    "\n",
    "#list to hold the images and titles.\n",
    "hemispheres = []\n",
    "\n",
    "# loop thru results and create a dic for the latest 4 mars stories\n",
    "# add each story to the articles list and print \n",
    "for item in hemi_results:\n",
    "    mars = {}\n",
    "    mars['title'] = item.find('h3').get_text().replace(' Enhanced','')\n",
    "    browser.click_link_by_partial_text(mars['title'])\n",
    "    html=browser.html\n",
    "    soup=bs(html,'html.parser')\n",
    "    mars['image_src'] = (hemi_url + soup.find('li').a['href'])\n",
    "    print(mars['image_src'])\n",
    "    browser.back()\n",
    "    hemispheres.append(mars)\n",
    "    \n",
    "# quit the browser\n",
    "browser.quit()\n",
    "\n",
    "hemispheres"
   ]
  },
  {
   "cell_type": "code",
   "execution_count": 58,
   "id": "4907e7c7",
   "metadata": {},
   "outputs": [
    {
     "ename": "IndentationError",
     "evalue": "unexpected indent (<ipython-input-58-b54bbf5166b7>, line 9)",
     "output_type": "error",
     "traceback": [
      "\u001b[1;36m  File \u001b[1;32m\"<ipython-input-58-b54bbf5166b7>\"\u001b[1;36m, line \u001b[1;32m9\u001b[0m\n\u001b[1;33m    .click()\u001b[0m\n\u001b[1;37m    ^\u001b[0m\n\u001b[1;31mIndentationError\u001b[0m\u001b[1;31m:\u001b[0m unexpected indent\n"
     ]
    }
   ],
   "source": [
    "# 3. Write code to retrieve the image urls and titles for each hemisphere.\n",
    "# First, get a list of all of the hemispheres\n",
    " \n",
    "# Next, loop through those links, click the link, find the sample anchor, return the href\n",
    "for i in range(len(links)):\n",
    "    hemisphere = {}\n",
    "    \n",
    "    # We have to find the elements on each loop to avoid a stale element exception\n",
    "     .click()\n",
    "    \n",
    "    # Next, we find the Sample image anchor tag and extract the href\n",
    "     \n",
    "    \n",
    "    # Get Hemisphere title\n",
    "     \n",
    "    # Append hemisphere object to list\n",
    "     \n",
    "    # Finally, we navigate backwards\n",
    "    browser.back()"
   ]
  },
  {
   "cell_type": "code",
   "execution_count": null,
   "id": "04e169ab",
   "metadata": {},
   "outputs": [],
   "source": []
  }
 ],
 "metadata": {
  "kernelspec": {
   "display_name": "PythonData",
   "language": "python",
   "name": "pythondata"
  },
  "language_info": {
   "codemirror_mode": {
    "name": "ipython",
    "version": 3
   },
   "file_extension": ".py",
   "mimetype": "text/x-python",
   "name": "python",
   "nbconvert_exporter": "python",
   "pygments_lexer": "ipython3",
   "version": "3.8.8"
  }
 },
 "nbformat": 4,
 "nbformat_minor": 5
}
