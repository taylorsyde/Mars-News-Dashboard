{
 "cells": [
  {
   "cell_type": "markdown",
   "id": "67bce21a",
   "metadata": {},
   "source": [
    "### Import Dependancies"
   ]
  },
  {
   "cell_type": "code",
   "execution_count": 2,
   "id": "99980a78",
   "metadata": {},
   "outputs": [],
   "source": [
    "from splinter import Browser\n",
    "from bs4 import BeautifulSoup as bs\n",
    "from webdriver_manager.chrome import ChromeDriverManager"
   ]
  },
  {
   "cell_type": "code",
   "execution_count": 19,
   "id": "922be9b1",
   "metadata": {},
   "outputs": [],
   "source": [
    "def scrape():   \n",
    "    # browser = init_browser()\n",
    "    executable_path = {'executable_path': ChromeDriverManager().install()}\n",
    "    browser = Browser('chrome', **executable_path, headless=False)\n",
    "\n",
    "    #latest news scrape sources\n",
    "    news_url = \"https://redplanetscience.com/\"\n",
    "    browser.visit(news_url)\n",
    "\n",
    "    #extract html and parse with beautifulsoup\n",
    "    news_html = browser.html\n",
    "    news_soup = bs(news_html, \"html.parser\")\n",
    "\n",
    "    # extract all title containers from the Mars news pages\n",
    "    results = news_soup.find_all('div', class_='list_text')\n",
    "\n",
    "    #define articles list\n",
    "    articles = []\n",
    "\n",
    "    # loop thru results and create a dic for the latest 4 mars stories\n",
    "    # add each story to the articles list and print \n",
    "    for item in results[:4]:\n",
    "        story = {}\n",
    "        story[\"headline\"] = item.find('div',class_=\"content_title\").get_text()\n",
    "        story[\"tagline\"] = item.find(\"div\", class_=\"article_teaser_body\").get_text()\n",
    "        articles.append(story)\n",
    "    \n",
    "    # quit the browser\n",
    "    browser.quit()\n",
    "    \n",
    "    return articles"
   ]
  },
  {
   "cell_type": "code",
   "execution_count": 22,
   "id": "44797a6b",
   "metadata": {},
   "outputs": [
    {
     "name": "stderr",
     "output_type": "stream",
     "text": [
      "\n",
      "\n",
      "====== WebDriver manager ======\n",
      "Current google-chrome version is 93.0.4577\n",
      "Get LATEST driver version for 93.0.4577\n",
      "Driver [C:\\Users\\tayly\\.wdm\\drivers\\chromedriver\\win32\\93.0.4577.63\\chromedriver.exe] found in cache\n"
     ]
    },
    {
     "data": {
      "text/plain": [
       "[{'headline': \"Newfound Martian Aurora Actually the Most Common; Sheds Light on Mars' Changing Climate\",\n",
       "  'tagline': 'A type of Martian aurora first identified by NASA’s MAVEN spacecraft in 2016 is actually the most common form of aurora occurring on the Red Planet, according to new results from the mission.'},\n",
       " {'headline': 'Two Rovers to Roll on Mars Again: Curiosity and Mars 2020',\n",
       "  'tagline': 'They look like twins. But under the hood, the rover currently exploring the Red Planet and the one launching there this summer have distinct science tools and roles to play.'},\n",
       " {'headline': \"NASA's Mars 2020 Will Hunt for Microscopic Fossils\",\n",
       "  'tagline': \"A new paper identifies a ring of minerals at the rover's landing site that are ideal for fossilizing microbial life.\"},\n",
       " {'headline': 'Sensors on Mars 2020 Spacecraft Answer Long-Distance Call From Earth',\n",
       "  'tagline': \"Instruments tailored to collect data during the descent of NASA's next rover through the Red Planet's atmosphere have been checked in flight.\"}]"
      ]
     },
     "execution_count": 22,
     "metadata": {},
     "output_type": "execute_result"
    }
   ],
   "source": [
    "#run scrape function\n",
    "scrape()"
   ]
  },
  {
   "cell_type": "code",
   "execution_count": 5,
   "id": "ac93bcb6",
   "metadata": {},
   "outputs": [],
   "source": []
  },
  {
   "cell_type": "code",
   "execution_count": null,
   "id": "4907e7c7",
   "metadata": {},
   "outputs": [],
   "source": [
    "# 2. Create a list to hold the images and titles.\n",
    " \n",
    "# 3. Write code to retrieve the image urls and titles for each hemisphere.\n",
    "# First, get a list of all of the hemispheres\n",
    " \n",
    "# Next, loop through those links, click the link, find the sample anchor, return the href\n",
    "for i in range(len(links)):\n",
    "    hemisphere = {}\n",
    "    \n",
    "    # We have to find the elements on each loop to avoid a stale element exception\n",
    "     .click()\n",
    "    \n",
    "    # Next, we find the Sample image anchor tag and extract the href\n",
    "     \n",
    "    \n",
    "    # Get Hemisphere title\n",
    "     \n",
    "    # Append hemisphere object to list\n",
    "     \n",
    "    # Finally, we navigate backwards\n",
    "    browser.back()"
   ]
  }
 ],
 "metadata": {
  "kernelspec": {
   "display_name": "PythonData",
   "language": "python",
   "name": "pythondata"
  },
  "language_info": {
   "codemirror_mode": {
    "name": "ipython",
    "version": 3
   },
   "file_extension": ".py",
   "mimetype": "text/x-python",
   "name": "python",
   "nbconvert_exporter": "python",
   "pygments_lexer": "ipython3",
   "version": "3.8.8"
  }
 },
 "nbformat": 4,
 "nbformat_minor": 5
}
